{
 "cells": [
  {
   "cell_type": "markdown",
   "metadata": {},
   "source": [
    "# Interpretable Clustering with Latent Dirichlet Allocation"
   ]
  },
  {
   "cell_type": "code",
   "execution_count": 1,
   "metadata": {
    "collapsed": false
   },
   "outputs": [
    {
     "name": "stderr",
     "output_type": "stream",
     "text": [
      "/Users/taewook/anaconda/lib/python3.5/site-packages/scipy/sparse/sparsetools.py:20: DeprecationWarning: `scipy.sparse.sparsetools` is deprecated!\n",
      "scipy.sparse.sparsetools is a private module for scipy.sparse, and should not be used.\n",
      "  _deprecated()\n"
     ]
    }
   ],
   "source": [
    "import numpy as np\n",
    "import pandas as pd\n",
    "import pyLDAvis.gensim\n",
    "from gensim import corpora\n",
    "from gensim.models import LdaModel\n",
    "from sklearn.metrics import normalized_mutual_info_score as NMI\n",
    "pyLDAvis.enable_notebook()"
   ]
  },
  {
   "cell_type": "markdown",
   "metadata": {},
   "source": [
    "In this tutorial,\n",
    "\n",
    "I will show that the combination of LDA(Latent Dirichlet Allocation) model + pyLDAVis\n",
    "\n",
    "can be powerful method for interpretable clustering."
   ]
  },
  {
   "cell_type": "markdown",
   "metadata": {},
   "source": [
    "## 1. Load Data"
   ]
  },
  {
   "cell_type": "code",
   "execution_count": 2,
   "metadata": {
    "collapsed": true
   },
   "outputs": [],
   "source": [
    "data = pd.read_csv('iris.csv')\n",
    "dummy_data = data.copy()"
   ]
  },
  {
   "cell_type": "code",
   "execution_count": 3,
   "metadata": {
    "collapsed": true
   },
   "outputs": [],
   "source": [
    "class_var = 'species'\n",
    "input_vars = [var for var in data.columns if var != class_var]"
   ]
  },
  {
   "cell_type": "code",
   "execution_count": 4,
   "metadata": {
    "collapsed": false
   },
   "outputs": [
    {
     "data": {
      "text/plain": [
       "array(['setosa', 'versicolor', 'virginica'], dtype=object)"
      ]
     },
     "execution_count": 4,
     "metadata": {},
     "output_type": "execute_result"
    }
   ],
   "source": [
    "data[class_var].unique()"
   ]
  },
  {
   "cell_type": "markdown",
   "metadata": {},
   "source": [
    "#### Perform clustering with #cluster = 3"
   ]
  },
  {
   "cell_type": "code",
   "execution_count": 5,
   "metadata": {
    "collapsed": true
   },
   "outputs": [],
   "source": [
    "n_cluster = 3"
   ]
  },
  {
   "cell_type": "markdown",
   "metadata": {},
   "source": [
    "## 2. Discretize Continuous Variables"
   ]
  },
  {
   "cell_type": "code",
   "execution_count": 6,
   "metadata": {
    "collapsed": false
   },
   "outputs": [],
   "source": [
    "for var in input_vars:\n",
    "    dummy_data[var] = pd.cut(data[var], bins=3)"
   ]
  },
  {
   "cell_type": "code",
   "execution_count": 7,
   "metadata": {
    "collapsed": false
   },
   "outputs": [
    {
     "data": {
      "text/html": [
       "<div>\n",
       "<table border=\"1\" class=\"dataframe\">\n",
       "  <thead>\n",
       "    <tr style=\"text-align: right;\">\n",
       "      <th></th>\n",
       "      <th>sepal_length</th>\n",
       "      <th>sepal_width</th>\n",
       "      <th>petal_length</th>\n",
       "      <th>petal_width</th>\n",
       "      <th>species</th>\n",
       "    </tr>\n",
       "  </thead>\n",
       "  <tbody>\n",
       "    <tr>\n",
       "      <th>0</th>\n",
       "      <td>(4.296, 5.5]</td>\n",
       "      <td>(2.8, 3.6]</td>\n",
       "      <td>(0.994, 2.967]</td>\n",
       "      <td>(0.0976, 0.9]</td>\n",
       "      <td>setosa</td>\n",
       "    </tr>\n",
       "    <tr>\n",
       "      <th>1</th>\n",
       "      <td>(4.296, 5.5]</td>\n",
       "      <td>(2.8, 3.6]</td>\n",
       "      <td>(0.994, 2.967]</td>\n",
       "      <td>(0.0976, 0.9]</td>\n",
       "      <td>setosa</td>\n",
       "    </tr>\n",
       "    <tr>\n",
       "      <th>2</th>\n",
       "      <td>(4.296, 5.5]</td>\n",
       "      <td>(2.8, 3.6]</td>\n",
       "      <td>(0.994, 2.967]</td>\n",
       "      <td>(0.0976, 0.9]</td>\n",
       "      <td>setosa</td>\n",
       "    </tr>\n",
       "  </tbody>\n",
       "</table>\n",
       "</div>"
      ],
      "text/plain": [
       "   sepal_length sepal_width    petal_length    petal_width species\n",
       "0  (4.296, 5.5]  (2.8, 3.6]  (0.994, 2.967]  (0.0976, 0.9]  setosa\n",
       "1  (4.296, 5.5]  (2.8, 3.6]  (0.994, 2.967]  (0.0976, 0.9]  setosa\n",
       "2  (4.296, 5.5]  (2.8, 3.6]  (0.994, 2.967]  (0.0976, 0.9]  setosa"
      ]
     },
     "execution_count": 7,
     "metadata": {},
     "output_type": "execute_result"
    }
   ],
   "source": [
    "dummy_data.head(3)"
   ]
  },
  {
   "cell_type": "markdown",
   "metadata": {},
   "source": [
    "## 3. Preprocess data to be input format of gensim LDA model"
   ]
  },
  {
   "cell_type": "markdown",
   "metadata": {},
   "source": [
    "#### Convert Each Row to Token List"
   ]
  },
  {
   "cell_type": "code",
   "execution_count": 8,
   "metadata": {
    "collapsed": false
   },
   "outputs": [],
   "source": [
    "rows = []\n",
    "for _, row in dummy_data.iterrows():\n",
    "    rows.append(['{}_{}'.format(k,v) for k,v in row.items() if k != class_var])"
   ]
  },
  {
   "cell_type": "code",
   "execution_count": 9,
   "metadata": {
    "collapsed": false
   },
   "outputs": [
    {
     "data": {
      "text/plain": [
       "['sepal_length_(4.296, 5.5]',\n",
       " 'sepal_width_(2.8, 3.6]',\n",
       " 'petal_length_(0.994, 2.967]',\n",
       " 'petal_width_(0.0976, 0.9]']"
      ]
     },
     "execution_count": 9,
     "metadata": {},
     "output_type": "execute_result"
    }
   ],
   "source": [
    "rows[0]"
   ]
  },
  {
   "cell_type": "markdown",
   "metadata": {},
   "source": [
    "#### Prepare dictionary for values of variables & Convert Structured Data into Corpus Format"
   ]
  },
  {
   "cell_type": "code",
   "execution_count": 10,
   "metadata": {
    "collapsed": true
   },
   "outputs": [],
   "source": [
    "dictionary = corpora.Dictionary(rows)\n",
    "row_var_matrix = [dictionary.doc2bow(row) for row in rows]"
   ]
  },
  {
   "cell_type": "code",
   "execution_count": 11,
   "metadata": {
    "collapsed": false
   },
   "outputs": [
    {
     "data": {
      "text/plain": [
       "{}"
      ]
     },
     "execution_count": 11,
     "metadata": {},
     "output_type": "execute_result"
    }
   ],
   "source": [
    "dictionary.id2token"
   ]
  },
  {
   "cell_type": "code",
   "execution_count": 12,
   "metadata": {
    "collapsed": false
   },
   "outputs": [
    {
     "data": {
      "text/plain": [
       "['sepal_length_(4.296, 5.5]',\n",
       " 'sepal_width_(2.8, 3.6]',\n",
       " 'petal_length_(0.994, 2.967]',\n",
       " 'petal_width_(0.0976, 0.9]']"
      ]
     },
     "execution_count": 12,
     "metadata": {},
     "output_type": "execute_result"
    }
   ],
   "source": [
    "rows[0]"
   ]
  },
  {
   "cell_type": "code",
   "execution_count": 13,
   "metadata": {
    "collapsed": false
   },
   "outputs": [
    {
     "data": {
      "text/plain": [
       "[(0, 1), (1, 1), (2, 1), (3, 1)]"
      ]
     },
     "execution_count": 13,
     "metadata": {},
     "output_type": "execute_result"
    }
   ],
   "source": [
    "row_var_matrix[0]"
   ]
  },
  {
   "cell_type": "markdown",
   "metadata": {},
   "source": [
    "## 4. Perform clustering with LDA model & Interpreting Clusters"
   ]
  },
  {
   "cell_type": "code",
   "execution_count": 14,
   "metadata": {
    "collapsed": false
   },
   "outputs": [],
   "source": [
    "lda = LdaModel(row_var_matrix, num_topics=n_cluster, id2word = dictionary, passes=50)"
   ]
  },
  {
   "cell_type": "code",
   "execution_count": 15,
   "metadata": {
    "collapsed": false
   },
   "outputs": [],
   "source": [
    "clustering_result = pyLDAvis.gensim.prepare(lda, row_var_matrix, dictionary)"
   ]
  },
  {
   "cell_type": "markdown",
   "metadata": {},
   "source": [
    "#### With PyLdaVis, we can explore each cluster interactively!"
   ]
  },
  {
   "cell_type": "code",
   "execution_count": 16,
   "metadata": {
    "collapsed": false,
    "scrolled": false
   },
   "outputs": [
    {
     "data": {
      "text/html": [
       "\n",
       "<link rel=\"stylesheet\" type=\"text/css\" href=\"https://cdn.rawgit.com/bmabey/pyLDAvis/files/ldavis.v1.0.0.css\">\n",
       "\n",
       "\n",
       "<div id=\"ldavis_el72744661454432701204607\"></div>\n",
       "<script type=\"text/javascript\">\n",
       "\n",
       "var ldavis_el72744661454432701204607_data = {\"lambda.step\": 0.01, \"R\": 12, \"plot.opts\": {\"xlab\": \"PC1\", \"ylab\": \"PC2\"}, \"mdsDat\": {\"Freq\": [36.09844014736809, 34.69311738520965, 29.208442467422262], \"topics\": [1, 2, 3], \"y\": [0.19304295766528395, 0.035634469358547666, -0.2286774270238315], \"x\": [0.20688880449060143, -0.33009950521267656, 0.1232107007220755], \"cluster\": [1, 1, 1]}, \"topic.order\": [3, 2, 1], \"token.table\": {\"Freq\": [0.9865328516995864, 0.9808943212627942, 0.9902215769882161, 0.9865328647125439, 0.9808936009627541, 0.9902206711392493, 0.01711661091000626, 0.9756468218703567, 0.6524112579462608, 0.34038848240674474, 0.9909646775304521, 0.9271172008877482, 0.06468259541077313, 0.22826959766530588, 0.4108852757975506, 0.36523135626448944, 0.9621412511419253], \"Topic\": [2, 1, 3, 2, 1, 3, 1, 2, 1, 3, 3, 1, 3, 1, 2, 3, 2], \"Term\": [\"petal_length_(0.994, 2.967]\", \"petal_length_(2.967, 4.933]\", \"petal_length_(4.933, 6.9]\", \"petal_width_(0.0976, 0.9]\", \"petal_width_(0.9, 1.7]\", \"petal_width_(1.7, 2.5]\", \"sepal_length_(4.296, 5.5]\", \"sepal_length_(4.296, 5.5]\", \"sepal_length_(5.5, 6.7]\", \"sepal_length_(5.5, 6.7]\", \"sepal_length_(6.7, 7.9]\", \"sepal_width_(1.998, 2.8]\", \"sepal_width_(1.998, 2.8]\", \"sepal_width_(2.8, 3.6]\", \"sepal_width_(2.8, 3.6]\", \"sepal_width_(2.8, 3.6]\", \"sepal_width_(3.6, 4.4]\"]}, \"tinfo\": {\"Category\": [\"Default\", \"Default\", \"Default\", \"Default\", \"Default\", \"Default\", \"Default\", \"Default\", \"Default\", \"Default\", \"Default\", \"Default\", \"Topic1\", \"Topic1\", \"Topic1\", \"Topic1\", \"Topic1\", \"Topic1\", \"Topic1\", \"Topic1\", \"Topic1\", \"Topic1\", \"Topic1\", \"Topic1\", \"Topic2\", \"Topic2\", \"Topic2\", \"Topic2\", \"Topic2\", \"Topic2\", \"Topic2\", \"Topic2\", \"Topic2\", \"Topic2\", \"Topic2\", \"Topic2\", \"Topic3\", \"Topic3\", \"Topic3\", \"Topic3\", \"Topic3\", \"Topic3\", \"Topic3\", \"Topic3\", \"Topic3\", \"Topic3\", \"Topic3\", \"Topic3\"], \"Term\": [\"petal_width_(1.7, 2.5]\", \"petal_length_(4.933, 6.9]\", \"sepal_length_(4.296, 5.5]\", \"petal_length_(2.967, 4.933]\", \"petal_width_(0.9, 1.7]\", \"petal_width_(0.0976, 0.9]\", \"petal_length_(0.994, 2.967]\", \"sepal_width_(1.998, 2.8]\", \"sepal_length_(5.5, 6.7]\", \"sepal_length_(6.7, 7.9]\", \"sepal_width_(3.6, 4.4]\", \"sepal_width_(2.8, 3.6]\", \"petal_length_(2.967, 4.933]\", \"petal_width_(0.9, 1.7]\", \"sepal_width_(1.998, 2.8]\", \"sepal_length_(5.5, 6.7]\", \"sepal_width_(2.8, 3.6]\", \"sepal_length_(4.296, 5.5]\", \"sepal_width_(3.6, 4.4]\", \"sepal_length_(6.7, 7.9]\", \"petal_length_(4.933, 6.9]\", \"petal_width_(1.7, 2.5]\", \"petal_width_(0.0976, 0.9]\", \"petal_length_(0.994, 2.967]\", \"petal_width_(0.0976, 0.9]\", \"petal_length_(0.994, 2.967]\", \"sepal_length_(4.296, 5.5]\", \"sepal_width_(3.6, 4.4]\", \"sepal_width_(2.8, 3.6]\", \"sepal_length_(6.7, 7.9]\", \"sepal_width_(1.998, 2.8]\", \"petal_width_(1.7, 2.5]\", \"petal_length_(4.933, 6.9]\", \"petal_width_(0.9, 1.7]\", \"petal_length_(2.967, 4.933]\", \"sepal_length_(5.5, 6.7]\", \"petal_width_(1.7, 2.5]\", \"petal_length_(4.933, 6.9]\", \"sepal_length_(6.7, 7.9]\", \"sepal_width_(2.8, 3.6]\", \"sepal_length_(5.5, 6.7]\", \"sepal_width_(1.998, 2.8]\", \"sepal_width_(3.6, 4.4]\", \"petal_length_(0.994, 2.967]\", \"petal_width_(0.0976, 0.9]\", \"petal_width_(0.9, 1.7]\", \"petal_length_(2.967, 4.933]\", \"sepal_length_(4.296, 5.5]\"], \"logprob\": [12.0, 11.0, 10.0, 9.0, 8.0, 7.0, 6.0, 5.0, 4.0, 3.0, 2.0, 1.0, -1.420300006866455, -1.420300006866455, -1.6100000143051147, -1.552899956703186, -2.403700113296509, -5.166900157928467, -6.504499912261963, -6.470300197601318, -6.4756999015808105, -6.478300094604492, -6.509399890899658, -6.509399890899658, -1.4463000297546387, -1.4463000297546387, -1.2978999614715576, -2.6382999420166016, -1.7517999410629272, -6.458499908447266, -6.440000057220459, -6.460100173950195, -6.460100173950195, -6.452199935913086, -6.452199935913086, -6.4222002029418945, -1.320199966430664, -1.320199966430664, -2.1442999839782715, -1.7026000022888184, -1.9744000434875488, -4.152500152587891, -6.118100166320801, -6.252200126647949, -6.252200126647949, -6.2281999588012695, -6.231100082397461, -6.250999927520752], \"loglift\": [12.0, 11.0, 10.0, 9.0, 8.0, 7.0, 6.0, 5.0, 4.0, 3.0, 2.0, 1.0, 1.0061, 1.0061, 0.95, 0.5883, -0.4797, -2.8377, -2.8542, -3.127, -3.9388, -3.9413, -4.0179, -4.0179, 1.0452, 1.0452, 1.0313, 1.012, 0.1721, -3.1152, -3.8799, -3.9232, -3.9232, -4.0258, -4.0258, -4.281, 1.2167, 1.2167, 1.199, 0.2214, 0.1668, -1.5924, -2.4678, -3.7606, -3.7606, -3.8018, -3.8047, -3.9217], \"Total\": [47.0, 47.0, 58.0, 53.0, 53.0, 49.0, 49.0, 46.0, 70.0, 21.0, 15.0, 87.0, 53.0128464125021, 53.0128853414495, 46.38032813847693, 70.50767355671387, 87.61569742337943, 58.42278037735885, 15.5902264685119, 21.191471781146987, 47.464124285144024, 47.4641677050899, 49.66889776579073, 49.668898420953155, 49.66889776579073, 49.668898420953155, 58.42278037735885, 15.5902264685119, 87.61569742337943, 21.191471781146987, 46.38032813847693, 47.4641677050899, 47.464124285144024, 53.0128853414495, 53.0128464125021, 70.50767355671387, 47.4641677050899, 47.464124285144024, 21.191471781146987, 87.61569742337943, 70.50767355671387, 46.38032813847693, 15.5902264685119, 49.668898420953155, 49.66889776579073, 53.0128853414495, 53.0128464125021, 58.42278037735885], \"Freq\": [47.0, 47.0, 58.0, 53.0, 53.0, 49.0, 49.0, 46.0, 70.0, 21.0, 15.0, 87.0, 52.339796431125855, 52.33884433277148, 43.29219618917809, 45.836538647079195, 19.577052817547724, 1.2350052023098137, 0.3241774623626617, 0.33545153230165276, 0.3336280723230607, 0.3327867663460466, 0.32257440205874083, 0.3225742003429878, 49.008739680461986, 49.008739680461986, 56.84978367897244, 14.880027550084476, 36.10669840269415, 0.32621147852675847, 0.33231641511624566, 0.32568523768422686, 0.3256831778909125, 0.32827895365856313, 0.3282712960740061, 0.3382807768702417, 46.805695701059626, 46.80481303493005, 20.529808770318574, 31.931946203137564, 24.332854132764428, 2.7558155341825943, 0.3860214560647618, 0.33758454014818273, 0.3375836832700059, 0.3457620550194562, 0.34477868530223665, 0.33799149607659307]}};\n",
       "\n",
       "function LDAvis_load_lib(url, callback){\n",
       "  var s = document.createElement('script');\n",
       "  s.src = url;\n",
       "  s.async = true;\n",
       "  s.onreadystatechange = s.onload = callback;\n",
       "  s.onerror = function(){console.warn(\"failed to load library \" + url);};\n",
       "  document.getElementsByTagName(\"head\")[0].appendChild(s);\n",
       "}\n",
       "\n",
       "if(typeof(LDAvis) !== \"undefined\"){\n",
       "   // already loaded: just create the visualization\n",
       "   !function(LDAvis){\n",
       "       new LDAvis(\"#\" + \"ldavis_el72744661454432701204607\", ldavis_el72744661454432701204607_data);\n",
       "   }(LDAvis);\n",
       "}else if(typeof define === \"function\" && define.amd){\n",
       "   // require.js is available: use it to load d3/LDAvis\n",
       "   require.config({paths: {d3: \"https://cdnjs.cloudflare.com/ajax/libs/d3/3.5.5/d3.min\"}});\n",
       "   require([\"d3\"], function(d3){\n",
       "      window.d3 = d3;\n",
       "      LDAvis_load_lib(\"https://cdn.rawgit.com/bmabey/pyLDAvis/files/ldavis.v1.0.0.js\", function(){\n",
       "        new LDAvis(\"#\" + \"ldavis_el72744661454432701204607\", ldavis_el72744661454432701204607_data);\n",
       "      });\n",
       "    });\n",
       "}else{\n",
       "    // require.js not available: dynamically load d3 & LDAvis\n",
       "    LDAvis_load_lib(\"https://cdnjs.cloudflare.com/ajax/libs/d3/3.5.5/d3.min.js\", function(){\n",
       "         LDAvis_load_lib(\"https://cdn.rawgit.com/bmabey/pyLDAvis/files/ldavis.v1.0.0.js\", function(){\n",
       "                 new LDAvis(\"#\" + \"ldavis_el72744661454432701204607\", ldavis_el72744661454432701204607_data);\n",
       "            })\n",
       "         });\n",
       "}\n",
       "</script>"
      ],
      "text/plain": [
       "PreparedData(topic_coordinates=            Freq  cluster  topics         x         y\n",
       "topic                                                \n",
       "2      36.098440        1       1  0.206889  0.193043\n",
       "1      34.693117        1       2 -0.330100  0.035634\n",
       "0      29.208442        1       3  0.123211 -0.228677, topic_info=     Category       Freq                         Term      Total  loglift  \\\n",
       "term                                                                        \n",
       "10    Default  47.000000       petal_width_(1.7, 2.5]  47.000000  12.0000   \n",
       "2     Default  47.000000    petal_length_(4.933, 6.9]  47.000000  11.0000   \n",
       "1     Default  58.000000    sepal_length_(4.296, 5.5]  58.000000  10.0000   \n",
       "4     Default  53.000000  petal_length_(2.967, 4.933]  53.000000   9.0000   \n",
       "7     Default  53.000000       petal_width_(0.9, 1.7]  53.000000   8.0000   \n",
       "6     Default  49.000000    petal_width_(0.0976, 0.9]  49.000000   7.0000   \n",
       "0     Default  49.000000  petal_length_(0.994, 2.967]  49.000000   6.0000   \n",
       "8     Default  46.000000     sepal_width_(1.998, 2.8]  46.000000   5.0000   \n",
       "5     Default  70.000000      sepal_length_(5.5, 6.7]  70.000000   4.0000   \n",
       "3     Default  21.000000      sepal_length_(6.7, 7.9]  21.000000   3.0000   \n",
       "11    Default  15.000000       sepal_width_(3.6, 4.4]  15.000000   2.0000   \n",
       "9     Default  87.000000       sepal_width_(2.8, 3.6]  87.000000   1.0000   \n",
       "4      Topic1  52.339796  petal_length_(2.967, 4.933]  53.012846   1.0061   \n",
       "7      Topic1  52.338844       petal_width_(0.9, 1.7]  53.012885   1.0061   \n",
       "8      Topic1  43.292196     sepal_width_(1.998, 2.8]  46.380328   0.9500   \n",
       "5      Topic1  45.836539      sepal_length_(5.5, 6.7]  70.507674   0.5883   \n",
       "9      Topic1  19.577053       sepal_width_(2.8, 3.6]  87.615697  -0.4797   \n",
       "1      Topic1   1.235005    sepal_length_(4.296, 5.5]  58.422780  -2.8377   \n",
       "11     Topic1   0.324177       sepal_width_(3.6, 4.4]  15.590226  -2.8542   \n",
       "3      Topic1   0.335452      sepal_length_(6.7, 7.9]  21.191472  -3.1270   \n",
       "2      Topic1   0.333628    petal_length_(4.933, 6.9]  47.464124  -3.9388   \n",
       "10     Topic1   0.332787       petal_width_(1.7, 2.5]  47.464168  -3.9413   \n",
       "6      Topic1   0.322574    petal_width_(0.0976, 0.9]  49.668898  -4.0179   \n",
       "0      Topic1   0.322574  petal_length_(0.994, 2.967]  49.668898  -4.0179   \n",
       "6      Topic2  49.008740    petal_width_(0.0976, 0.9]  49.668898   1.0452   \n",
       "0      Topic2  49.008740  petal_length_(0.994, 2.967]  49.668898   1.0452   \n",
       "1      Topic2  56.849784    sepal_length_(4.296, 5.5]  58.422780   1.0313   \n",
       "11     Topic2  14.880028       sepal_width_(3.6, 4.4]  15.590226   1.0120   \n",
       "9      Topic2  36.106698       sepal_width_(2.8, 3.6]  87.615697   0.1721   \n",
       "3      Topic2   0.326211      sepal_length_(6.7, 7.9]  21.191472  -3.1152   \n",
       "8      Topic2   0.332316     sepal_width_(1.998, 2.8]  46.380328  -3.8799   \n",
       "10     Topic2   0.325685       petal_width_(1.7, 2.5]  47.464168  -3.9232   \n",
       "2      Topic2   0.325683    petal_length_(4.933, 6.9]  47.464124  -3.9232   \n",
       "7      Topic2   0.328279       petal_width_(0.9, 1.7]  53.012885  -4.0258   \n",
       "4      Topic2   0.328271  petal_length_(2.967, 4.933]  53.012846  -4.0258   \n",
       "5      Topic2   0.338281      sepal_length_(5.5, 6.7]  70.507674  -4.2810   \n",
       "10     Topic3  46.805696       petal_width_(1.7, 2.5]  47.464168   1.2167   \n",
       "2      Topic3  46.804813    petal_length_(4.933, 6.9]  47.464124   1.2167   \n",
       "3      Topic3  20.529809      sepal_length_(6.7, 7.9]  21.191472   1.1990   \n",
       "9      Topic3  31.931946       sepal_width_(2.8, 3.6]  87.615697   0.2214   \n",
       "5      Topic3  24.332854      sepal_length_(5.5, 6.7]  70.507674   0.1668   \n",
       "8      Topic3   2.755816     sepal_width_(1.998, 2.8]  46.380328  -1.5924   \n",
       "11     Topic3   0.386021       sepal_width_(3.6, 4.4]  15.590226  -2.4678   \n",
       "0      Topic3   0.337585  petal_length_(0.994, 2.967]  49.668898  -3.7606   \n",
       "6      Topic3   0.337584    petal_width_(0.0976, 0.9]  49.668898  -3.7606   \n",
       "7      Topic3   0.345762       petal_width_(0.9, 1.7]  53.012885  -3.8018   \n",
       "4      Topic3   0.344779  petal_length_(2.967, 4.933]  53.012846  -3.8047   \n",
       "1      Topic3   0.337991    sepal_length_(4.296, 5.5]  58.422780  -3.9217   \n",
       "\n",
       "      logprob  \n",
       "term           \n",
       "10    12.0000  \n",
       "2     11.0000  \n",
       "1     10.0000  \n",
       "4      9.0000  \n",
       "7      8.0000  \n",
       "6      7.0000  \n",
       "0      6.0000  \n",
       "8      5.0000  \n",
       "5      4.0000  \n",
       "3      3.0000  \n",
       "11     2.0000  \n",
       "9      1.0000  \n",
       "4     -1.4203  \n",
       "7     -1.4203  \n",
       "8     -1.6100  \n",
       "5     -1.5529  \n",
       "9     -2.4037  \n",
       "1     -5.1669  \n",
       "11    -6.5045  \n",
       "3     -6.4703  \n",
       "2     -6.4757  \n",
       "10    -6.4783  \n",
       "6     -6.5094  \n",
       "0     -6.5094  \n",
       "6     -1.4463  \n",
       "0     -1.4463  \n",
       "1     -1.2979  \n",
       "11    -2.6383  \n",
       "9     -1.7518  \n",
       "3     -6.4585  \n",
       "8     -6.4400  \n",
       "10    -6.4601  \n",
       "2     -6.4601  \n",
       "7     -6.4522  \n",
       "4     -6.4522  \n",
       "5     -6.4222  \n",
       "10    -1.3202  \n",
       "2     -1.3202  \n",
       "3     -2.1443  \n",
       "9     -1.7026  \n",
       "5     -1.9744  \n",
       "8     -4.1525  \n",
       "11    -6.1181  \n",
       "0     -6.2522  \n",
       "6     -6.2522  \n",
       "7     -6.2282  \n",
       "4     -6.2311  \n",
       "1     -6.2510  , token_table=      Topic      Freq                         Term\n",
       "term                                              \n",
       "0         2  0.986533  petal_length_(0.994, 2.967]\n",
       "4         1  0.980894  petal_length_(2.967, 4.933]\n",
       "2         3  0.990222    petal_length_(4.933, 6.9]\n",
       "6         2  0.986533    petal_width_(0.0976, 0.9]\n",
       "7         1  0.980894       petal_width_(0.9, 1.7]\n",
       "10        3  0.990221       petal_width_(1.7, 2.5]\n",
       "1         1  0.017117    sepal_length_(4.296, 5.5]\n",
       "1         2  0.975647    sepal_length_(4.296, 5.5]\n",
       "5         1  0.652411      sepal_length_(5.5, 6.7]\n",
       "5         3  0.340388      sepal_length_(5.5, 6.7]\n",
       "3         3  0.990965      sepal_length_(6.7, 7.9]\n",
       "8         1  0.927117     sepal_width_(1.998, 2.8]\n",
       "8         3  0.064683     sepal_width_(1.998, 2.8]\n",
       "9         1  0.228270       sepal_width_(2.8, 3.6]\n",
       "9         2  0.410885       sepal_width_(2.8, 3.6]\n",
       "9         3  0.365231       sepal_width_(2.8, 3.6]\n",
       "11        2  0.962141       sepal_width_(3.6, 4.4], R=12, lambda_step=0.01, plot_opts={'xlab': 'PC1', 'ylab': 'PC2'}, topic_order=[3, 2, 1])"
      ]
     },
     "execution_count": 16,
     "metadata": {},
     "output_type": "execute_result"
    }
   ],
   "source": [
    "clustering_result"
   ]
  },
  {
   "cell_type": "markdown",
   "metadata": {},
   "source": [
    "#### To enhance interpretability, merge adjacent intervals"
   ]
  },
  {
   "cell_type": "code",
   "execution_count": 17,
   "metadata": {
    "collapsed": true
   },
   "outputs": [],
   "source": [
    "def merge_adjacent_intervals(intervals_for_var):\n",
    "    \n",
    "    def get_begin_and_end_points(interval):\n",
    "        return [float(x) for x in interval.split('_(')[1].replace(']','').split(', ')]\n",
    "    \n",
    "    var_name = intervals_for_var[0].split('_(')[0]\n",
    "    intervals_for_var = sorted([get_begin_and_end_points(i) for i in intervals_for_var])\n",
    "    \n",
    "    prev_num_intervals = len(intervals_for_var)\n",
    "    \n",
    "    while(True):\n",
    "        \n",
    "        for idx, interval in enumerate(intervals_for_var):\n",
    "            if idx < len(intervals_for_var) - 1:\n",
    "                curr_interval = intervals_for_var[idx]\n",
    "                next_interval = intervals_for_var[idx+1]\n",
    "                if curr_interval[1] == next_interval[0]:\n",
    "                    merged_interval = [curr_interval[0], next_interval[1]]\n",
    "                    intervals_for_var[idx+1] = merged_interval\n",
    "                    intervals_for_var.remove(curr_interval)\n",
    "                \n",
    "        curr_num_intervals = len(intervals_for_var)\n",
    "        if prev_num_intervals > curr_num_intervals:\n",
    "            prev_num_intervals = curr_num_intervals\n",
    "        else:\n",
    "            break\n",
    "    \n",
    "    intervals_for_var = ['{}_({}, {}]'.format(var_name, i[0], i[1]) for i in intervals_for_var]\n",
    "    return intervals_for_var\n",
    "\n",
    "def postprocess_intervals(var_names, intervals):\n",
    "    intervals_by_var = []\n",
    "    for var in var_names:\n",
    "        intervals_for_var = [x for x in intervals if var == x[:len(var)]]\n",
    "        if len(intervals_for_var) >= 2:\n",
    "            intervals_for_var = merge_adjacent_intervals(intervals_for_var)\n",
    "        intervals_by_var.append(intervals_for_var)\n",
    "    return intervals_by_var"
   ]
  },
  {
   "cell_type": "markdown",
   "metadata": {},
   "source": [
    "#### Now, we can describe clusters in terms of intervals of variables"
   ]
  },
  {
   "cell_type": "code",
   "execution_count": 18,
   "metadata": {
    "collapsed": false
   },
   "outputs": [
    {
     "name": "stdout",
     "output_type": "stream",
     "text": [
      "0 th cluster [['sepal_length_(5.5, 7.9]'], ['sepal_width_(2.8, 3.6]'], ['petal_length_(4.933, 6.9]'], ['petal_width_(1.7, 2.5]']]\n",
      "1 th cluster [['sepal_length_(4.296, 5.5]'], ['sepal_width_(2.8, 3.6]'], ['petal_length_(0.994, 2.967]'], ['petal_width_(0.0976, 0.9]']]\n",
      "2 th cluster [['sepal_length_(5.5, 6.7]'], ['sepal_width_(1.998, 2.8]'], ['petal_length_(2.967, 4.933]'], ['petal_width_(0.9, 1.7]']]\n"
     ]
    }
   ],
   "source": [
    "cutoff = 0.1 # P(value of variable | cluster) (Same as P(word | topic) in LDA Model)\n",
    "for i in range(n_cluster):\n",
    "    variables = postprocess_intervals(input_vars,\n",
    "                                       [dictionary.id2token[x[0]] for x in lda.get_topic_terms(i) if x[1] > cutoff])\n",
    "    print('{} th cluster'.format(i), variables)"
   ]
  },
  {
   "cell_type": "markdown",
   "metadata": {},
   "source": [
    "## 5. Clustering performance evaluation"
   ]
  },
  {
   "cell_type": "markdown",
   "metadata": {},
   "source": [
    "#### Get cluster(=topic) label of each row"
   ]
  },
  {
   "cell_type": "code",
   "execution_count": 19,
   "metadata": {
    "collapsed": true
   },
   "outputs": [],
   "source": [
    "def get_cluster_label(lda, row):\n",
    "    return np.argmax([x[1] for x in lda.get_document_topics(row)])"
   ]
  },
  {
   "cell_type": "code",
   "execution_count": 20,
   "metadata": {
    "collapsed": false
   },
   "outputs": [
    {
     "data": {
      "text/plain": [
       "0.8243868199386184"
      ]
     },
     "execution_count": 20,
     "metadata": {},
     "output_type": "execute_result"
    }
   ],
   "source": [
    "cluster_labels = [get_cluster_label(lda, row) for row in row_var_matrix]\n",
    "NMI(data.species, cluster_labels)"
   ]
  },
  {
   "cell_type": "markdown",
   "metadata": {},
   "source": [
    "#### Compare NMI with K-means clustering"
   ]
  },
  {
   "cell_type": "code",
   "execution_count": 21,
   "metadata": {
    "collapsed": false
   },
   "outputs": [
    {
     "name": "stdout",
     "output_type": "stream",
     "text": [
      "0.758205727819\n"
     ]
    }
   ],
   "source": [
    "from sklearn.cluster import KMeans\n",
    "kmeans = KMeans(n_cluster)\n",
    "cluster_labels_kmeans = kmeans.fit_predict(data.drop(class_var, axis=1))\n",
    "print(NMI(data.species, cluster_labels_kmeans))"
   ]
  },
  {
   "cell_type": "markdown",
   "metadata": {},
   "source": [
    "#### Try K-means with normalized input"
   ]
  },
  {
   "cell_type": "code",
   "execution_count": 22,
   "metadata": {
    "collapsed": false
   },
   "outputs": [
    {
     "name": "stdout",
     "output_type": "stream",
     "text": [
      "0.659486991304\n"
     ]
    }
   ],
   "source": [
    "scaled_data = data.drop(class_var, axis=1)\n",
    "scaled_data = (scaled_data - scaled_data.mean(axis=0)) / scaled_data.std()\n",
    "cluster_labels_kmeans_scaled = kmeans.fit_predict(scaled_data)\n",
    "print(NMI(data.species, cluster_labels_kmeans_scaled))"
   ]
  },
  {
   "cell_type": "markdown",
   "metadata": {},
   "source": [
    "Clustering performance of proposed method outperforms K-means clustering,\n",
    "\n",
    "and is able to provide explanation for each cluster at the same time."
   ]
  },
  {
   "cell_type": "code",
   "execution_count": null,
   "metadata": {
    "collapsed": true
   },
   "outputs": [],
   "source": []
  }
 ],
 "metadata": {
  "anaconda-cloud": {},
  "kernelspec": {
   "display_name": "Python [conda root]",
   "language": "python",
   "name": "conda-root-py"
  },
  "language_info": {
   "codemirror_mode": {
    "name": "ipython",
    "version": 3
   },
   "file_extension": ".py",
   "mimetype": "text/x-python",
   "name": "python",
   "nbconvert_exporter": "python",
   "pygments_lexer": "ipython3",
   "version": "3.5.2"
  }
 },
 "nbformat": 4,
 "nbformat_minor": 1
}
