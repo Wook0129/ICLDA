{
 "cells": [
  {
   "cell_type": "markdown",
   "metadata": {},
   "source": [
    "# Interpretable Clustering with Latent Dirichlet Allocation"
   ]
  },
  {
   "cell_type": "code",
   "execution_count": 1,
   "metadata": {
    "collapsed": false
   },
   "outputs": [
    {
     "name": "stderr",
     "output_type": "stream",
     "text": [
      "/Users/taewook/anaconda/lib/python3.5/site-packages/scipy/sparse/sparsetools.py:20: DeprecationWarning: `scipy.sparse.sparsetools` is deprecated!\n",
      "scipy.sparse.sparsetools is a private module for scipy.sparse, and should not be used.\n",
      "  _deprecated()\n"
     ]
    }
   ],
   "source": [
    "import numpy as np\n",
    "import pandas as pd\n",
    "import pyLDAvis.gensim\n",
    "from gensim import corpora\n",
    "from gensim.models import LdaModel\n",
    "from sklearn.metrics import normalized_mutual_info_score as NMI\n",
    "pyLDAvis.enable_notebook()"
   ]
  },
  {
   "cell_type": "markdown",
   "metadata": {},
   "source": [
    "In this tutorial,\n",
    "\n",
    "I will show that the combination of LDA(Latent Dirichlet Allocation) model + pyLDAVis\n",
    "\n",
    "can be powerful method for interpretable clustering."
   ]
  },
  {
   "cell_type": "markdown",
   "metadata": {},
   "source": [
    "## 1. Load Data"
   ]
  },
  {
   "cell_type": "code",
   "execution_count": 2,
   "metadata": {
    "collapsed": true
   },
   "outputs": [],
   "source": [
    "data = pd.read_csv('iris.csv')\n",
    "dummy_data = data.copy()"
   ]
  },
  {
   "cell_type": "code",
   "execution_count": 3,
   "metadata": {
    "collapsed": true
   },
   "outputs": [],
   "source": [
    "class_var = 'species'\n",
    "input_vars = [var for var in data.columns if var != class_var]"
   ]
  },
  {
   "cell_type": "code",
   "execution_count": 4,
   "metadata": {
    "collapsed": false
   },
   "outputs": [
    {
     "data": {
      "text/plain": [
       "array(['setosa', 'versicolor', 'virginica'], dtype=object)"
      ]
     },
     "execution_count": 4,
     "metadata": {},
     "output_type": "execute_result"
    }
   ],
   "source": [
    "data[class_var].unique()"
   ]
  },
  {
   "cell_type": "markdown",
   "metadata": {},
   "source": [
    "#### Perform clustering with #cluster = 3"
   ]
  },
  {
   "cell_type": "code",
   "execution_count": 5,
   "metadata": {
    "collapsed": true
   },
   "outputs": [],
   "source": [
    "n_cluster = 3"
   ]
  },
  {
   "cell_type": "markdown",
   "metadata": {},
   "source": [
    "## 2. Discretize Continuous Variables"
   ]
  },
  {
   "cell_type": "code",
   "execution_count": 6,
   "metadata": {
    "collapsed": false
   },
   "outputs": [],
   "source": [
    "for var in input_vars:\n",
    "    dummy_data[var] = pd.cut(data[var], bins=3)"
   ]
  },
  {
   "cell_type": "code",
   "execution_count": 7,
   "metadata": {
    "collapsed": false
   },
   "outputs": [
    {
     "data": {
      "text/html": [
       "<div>\n",
       "<table border=\"1\" class=\"dataframe\">\n",
       "  <thead>\n",
       "    <tr style=\"text-align: right;\">\n",
       "      <th></th>\n",
       "      <th>sepal_length</th>\n",
       "      <th>sepal_width</th>\n",
       "      <th>petal_length</th>\n",
       "      <th>petal_width</th>\n",
       "      <th>species</th>\n",
       "    </tr>\n",
       "  </thead>\n",
       "  <tbody>\n",
       "    <tr>\n",
       "      <th>0</th>\n",
       "      <td>(4.296, 5.5]</td>\n",
       "      <td>(2.8, 3.6]</td>\n",
       "      <td>(0.994, 2.967]</td>\n",
       "      <td>(0.0976, 0.9]</td>\n",
       "      <td>setosa</td>\n",
       "    </tr>\n",
       "    <tr>\n",
       "      <th>1</th>\n",
       "      <td>(4.296, 5.5]</td>\n",
       "      <td>(2.8, 3.6]</td>\n",
       "      <td>(0.994, 2.967]</td>\n",
       "      <td>(0.0976, 0.9]</td>\n",
       "      <td>setosa</td>\n",
       "    </tr>\n",
       "    <tr>\n",
       "      <th>2</th>\n",
       "      <td>(4.296, 5.5]</td>\n",
       "      <td>(2.8, 3.6]</td>\n",
       "      <td>(0.994, 2.967]</td>\n",
       "      <td>(0.0976, 0.9]</td>\n",
       "      <td>setosa</td>\n",
       "    </tr>\n",
       "  </tbody>\n",
       "</table>\n",
       "</div>"
      ],
      "text/plain": [
       "   sepal_length sepal_width    petal_length    petal_width species\n",
       "0  (4.296, 5.5]  (2.8, 3.6]  (0.994, 2.967]  (0.0976, 0.9]  setosa\n",
       "1  (4.296, 5.5]  (2.8, 3.6]  (0.994, 2.967]  (0.0976, 0.9]  setosa\n",
       "2  (4.296, 5.5]  (2.8, 3.6]  (0.994, 2.967]  (0.0976, 0.9]  setosa"
      ]
     },
     "execution_count": 7,
     "metadata": {},
     "output_type": "execute_result"
    }
   ],
   "source": [
    "dummy_data.head(3)"
   ]
  },
  {
   "cell_type": "markdown",
   "metadata": {},
   "source": [
    "## 3. Preprocess data to be input format of gensim LDA model"
   ]
  },
  {
   "cell_type": "markdown",
   "metadata": {},
   "source": [
    "#### Convert Each Row to Token List"
   ]
  },
  {
   "cell_type": "code",
   "execution_count": 8,
   "metadata": {
    "collapsed": false
   },
   "outputs": [],
   "source": [
    "rows = []\n",
    "for _, row in dummy_data.iterrows():\n",
    "    rows.append(['{}_{}'.format(k,v) for k,v in row.items() if k != class_var])"
   ]
  },
  {
   "cell_type": "code",
   "execution_count": 9,
   "metadata": {
    "collapsed": false
   },
   "outputs": [
    {
     "data": {
      "text/plain": [
       "['sepal_length_(4.296, 5.5]',\n",
       " 'sepal_width_(2.8, 3.6]',\n",
       " 'petal_length_(0.994, 2.967]',\n",
       " 'petal_width_(0.0976, 0.9]']"
      ]
     },
     "execution_count": 9,
     "metadata": {},
     "output_type": "execute_result"
    }
   ],
   "source": [
    "rows[0]"
   ]
  },
  {
   "cell_type": "markdown",
   "metadata": {},
   "source": [
    "#### Prepare dictionary for values of variables & Convert Structured Data into Corpus Format"
   ]
  },
  {
   "cell_type": "code",
   "execution_count": 10,
   "metadata": {
    "collapsed": true
   },
   "outputs": [],
   "source": [
    "dictionary = corpora.Dictionary(rows)\n",
    "row_var_matrix = [dictionary.doc2bow(row) for row in rows]"
   ]
  },
  {
   "cell_type": "markdown",
   "metadata": {},
   "source": [
    "## 4. Perform clustering with LDA model & Interpreting Clusters"
   ]
  },
  {
   "cell_type": "code",
   "execution_count": 11,
   "metadata": {
    "collapsed": false
   },
   "outputs": [],
   "source": [
    "lda = LdaModel(row_var_matrix, num_topics=n_cluster, id2word = dictionary, passes=50)"
   ]
  },
  {
   "cell_type": "code",
   "execution_count": 12,
   "metadata": {
    "collapsed": false
   },
   "outputs": [],
   "source": [
    "clustering_result = pyLDAvis.gensim.prepare(lda, row_var_matrix, dictionary)"
   ]
  },
  {
   "cell_type": "markdown",
   "metadata": {},
   "source": [
    "#### With PyLdaVis, we can explore each cluster interactively!"
   ]
  },
  {
   "cell_type": "code",
   "execution_count": 13,
   "metadata": {
    "collapsed": false,
    "scrolled": false
   },
   "outputs": [
    {
     "data": {
      "text/html": [
       "\n",
       "<link rel=\"stylesheet\" type=\"text/css\" href=\"https://cdn.rawgit.com/bmabey/pyLDAvis/files/ldavis.v1.0.0.css\">\n",
       "\n",
       "\n",
       "<div id=\"ldavis_el874346602750241069385769\"></div>\n",
       "<script type=\"text/javascript\">\n",
       "\n",
       "var ldavis_el874346602750241069385769_data = {\"R\": 12, \"mdsDat\": {\"x\": [-0.15939496147055876, 0.3276237193740963, -0.16822875790353747], \"Freq\": [34.587836264300044, 34.22346867835613, 31.18869505734383], \"topics\": [1, 2, 3], \"cluster\": [1, 1, 1], \"y\": [0.19316049552374664, -0.0034412261197491346, -0.18971926940399758]}, \"tinfo\": {\"Freq\": [53.0, 53.0, 46.0, 46.0, 49.0, 49.0, 58.0, 70.0, 20.0, 46.0, 15.0, 87.0, 52.56355891507613, 52.56268686010125, 32.955455375769816, 41.94079750510429, 20.201462732262023, 5.332541953897438, 0.32557100779213055, 0.3370587424025208, 0.33011576326789005, 0.3298208503944896, 0.32396878555480413, 0.3239675775885823, 49.32208524881448, 49.32208524881448, 14.991231435686483, 53.0686500572719, 36.320594364292575, 0.32847962307777756, 0.33413968603279715, 0.32778392119970795, 0.32777211222029806, 0.32886296071708365, 0.3288452472479688, 0.3402957022182159, 46.11528349457877, 46.11496839559038, 20.224632752684258, 28.17958416906471, 30.9180063031764, 13.538558471936339, 0.3639317939651058, 0.3324876641970925, 0.3324871413558507, 0.34006563801555273, 0.33918632797210174, 0.3329850169283559], \"loglift\": [12.0, 11.0, 10.0, 9.0, 8.0, 7.0, 6.0, 5.0, 4.0, 3.0, 2.0, 1.0, 1.049, 1.049, 0.7103, 0.5429, -0.4035, -1.3375, -2.8129, -3.0651, -3.8919, -3.8928, -3.977, -3.977, 1.059, 1.059, 1.0273, 0.9708, 0.1937, -3.0803, -3.8704, -3.8884, -3.8885, -4.0145, -4.0146, -4.2607, 1.151, 1.1509, 1.1327, 0.2487, 0.1255, -0.0758, -2.5981, -3.8476, -3.8476, -3.8882, -3.8907, -4.0076], \"Category\": [\"Default\", \"Default\", \"Default\", \"Default\", \"Default\", \"Default\", \"Default\", \"Default\", \"Default\", \"Default\", \"Default\", \"Default\", \"Topic1\", \"Topic1\", \"Topic1\", \"Topic1\", \"Topic1\", \"Topic1\", \"Topic1\", \"Topic1\", \"Topic1\", \"Topic1\", \"Topic1\", \"Topic1\", \"Topic2\", \"Topic2\", \"Topic2\", \"Topic2\", \"Topic2\", \"Topic2\", \"Topic2\", \"Topic2\", \"Topic2\", \"Topic2\", \"Topic2\", \"Topic2\", \"Topic3\", \"Topic3\", \"Topic3\", \"Topic3\", \"Topic3\", \"Topic3\", \"Topic3\", \"Topic3\", \"Topic3\", \"Topic3\", \"Topic3\", \"Topic3\"], \"Term\": [\"petal_length_(2.967, 4.933]\", \"petal_width_(0.9, 1.7]\", \"petal_width_(1.7, 2.5]\", \"petal_length_(4.933, 6.9]\", \"petal_width_(0.0976, 0.9]\", \"petal_length_(0.994, 2.967]\", \"sepal_length_(4.296, 5.5]\", \"sepal_length_(5.5, 6.7]\", \"sepal_length_(6.7, 7.9]\", \"sepal_width_(1.998, 2.8]\", \"sepal_width_(3.6, 4.4]\", \"sepal_width_(2.8, 3.6]\", \"petal_length_(2.967, 4.933]\", \"petal_width_(0.9, 1.7]\", \"sepal_width_(1.998, 2.8]\", \"sepal_length_(5.5, 6.7]\", \"sepal_width_(2.8, 3.6]\", \"sepal_length_(4.296, 5.5]\", \"sepal_width_(3.6, 4.4]\", \"sepal_length_(6.7, 7.9]\", \"petal_length_(4.933, 6.9]\", \"petal_width_(1.7, 2.5]\", \"petal_length_(0.994, 2.967]\", \"petal_width_(0.0976, 0.9]\", \"petal_width_(0.0976, 0.9]\", \"petal_length_(0.994, 2.967]\", \"sepal_width_(3.6, 4.4]\", \"sepal_length_(4.296, 5.5]\", \"sepal_width_(2.8, 3.6]\", \"sepal_length_(6.7, 7.9]\", \"sepal_width_(1.998, 2.8]\", \"petal_length_(4.933, 6.9]\", \"petal_width_(1.7, 2.5]\", \"petal_width_(0.9, 1.7]\", \"petal_length_(2.967, 4.933]\", \"sepal_length_(5.5, 6.7]\", \"petal_width_(1.7, 2.5]\", \"petal_length_(4.933, 6.9]\", \"sepal_length_(6.7, 7.9]\", \"sepal_length_(5.5, 6.7]\", \"sepal_width_(2.8, 3.6]\", \"sepal_width_(1.998, 2.8]\", \"sepal_width_(3.6, 4.4]\", \"petal_width_(0.0976, 0.9]\", \"petal_length_(0.994, 2.967]\", \"petal_width_(0.9, 1.7]\", \"petal_length_(2.967, 4.933]\", \"sepal_length_(4.296, 5.5]\"], \"logprob\": [12.0, 11.0, 10.0, 9.0, 8.0, 7.0, 6.0, 5.0, 4.0, 3.0, 2.0, 1.0, -1.3732000589370728, -1.3732999563217163, -1.8401000499725342, -1.5989999771118164, -2.3294999599456787, -3.661400079727173, -6.457399845123291, -6.422800064086914, -6.443600177764893, -6.444499969482422, -6.462399959564209, -6.462399959564209, -1.426300048828125, -1.426300048828125, -2.6171998977661133, -1.3530999422073364, -1.732300043106079, -6.438000202178955, -6.420899868011475, -6.440100193023682, -6.440100193023682, -6.436800003051758, -6.436800003051758, -6.402599811553955, -1.4006999731063843, -1.4006999731063843, -2.224900007247925, -1.8932000398635864, -1.8005000352859497, -2.626300096511841, -6.242599964141846, -6.333000183105469, -6.333000183105469, -6.310400009155273, -6.313000202178955, -6.331500053405762], \"Total\": [53.0, 53.0, 46.0, 46.0, 49.0, 49.0, 58.0, 70.0, 20.0, 46.0, 15.0, 87.0, 53.2315904902962, 53.231615458833886, 46.828153533738956, 70.46067737638722, 87.440063399731, 58.7341770280977, 15.68073423744372, 20.890171118164556, 46.77286808005798, 46.772876457193554, 49.978541175725134, 49.97854049060016, 49.97854049060016, 49.978541175725134, 15.68073423744372, 58.7341770280977, 87.440063399731, 20.890171118164556, 46.828153533738956, 46.77286808005798, 46.772876457193554, 53.231615458833886, 53.2315904902962, 70.46067737638722, 46.772876457193554, 46.77286808005798, 20.890171118164556, 70.46067737638722, 87.440063399731, 46.828153533738956, 15.68073423744372, 49.97854049060016, 49.978541175725134, 53.231615458833886, 53.2315904902962, 58.7341770280977]}, \"topic.order\": [1, 2, 3], \"plot.opts\": {\"xlab\": \"PC1\", \"ylab\": \"PC2\"}, \"lambda.step\": 0.01, \"token.table\": {\"Topic\": [2, 1, 3, 2, 1, 3, 1, 2, 1, 3, 3, 1, 3, 1, 2, 3, 2], \"Freq\": [0.9804207735418973, 0.9956493787211108, 0.9834761452144625, 0.9804207869818807, 0.9956489117071226, 0.9834759690715005, 0.08512931061599897, 0.902370692529589, 0.5960771534404101, 0.3973847689602734, 0.95738804085762, 0.7047042753078875, 0.2989654501306189, 0.22872810497140522, 0.4117105889485294, 0.35452856270567806, 0.9565878595264877], \"Term\": [\"petal_length_(0.994, 2.967]\", \"petal_length_(2.967, 4.933]\", \"petal_length_(4.933, 6.9]\", \"petal_width_(0.0976, 0.9]\", \"petal_width_(0.9, 1.7]\", \"petal_width_(1.7, 2.5]\", \"sepal_length_(4.296, 5.5]\", \"sepal_length_(4.296, 5.5]\", \"sepal_length_(5.5, 6.7]\", \"sepal_length_(5.5, 6.7]\", \"sepal_length_(6.7, 7.9]\", \"sepal_width_(1.998, 2.8]\", \"sepal_width_(1.998, 2.8]\", \"sepal_width_(2.8, 3.6]\", \"sepal_width_(2.8, 3.6]\", \"sepal_width_(2.8, 3.6]\", \"sepal_width_(3.6, 4.4]\"]}};\n",
       "\n",
       "function LDAvis_load_lib(url, callback){\n",
       "  var s = document.createElement('script');\n",
       "  s.src = url;\n",
       "  s.async = true;\n",
       "  s.onreadystatechange = s.onload = callback;\n",
       "  s.onerror = function(){console.warn(\"failed to load library \" + url);};\n",
       "  document.getElementsByTagName(\"head\")[0].appendChild(s);\n",
       "}\n",
       "\n",
       "if(typeof(LDAvis) !== \"undefined\"){\n",
       "   // already loaded: just create the visualization\n",
       "   !function(LDAvis){\n",
       "       new LDAvis(\"#\" + \"ldavis_el874346602750241069385769\", ldavis_el874346602750241069385769_data);\n",
       "   }(LDAvis);\n",
       "}else if(typeof define === \"function\" && define.amd){\n",
       "   // require.js is available: use it to load d3/LDAvis\n",
       "   require.config({paths: {d3: \"https://cdnjs.cloudflare.com/ajax/libs/d3/3.5.5/d3.min\"}});\n",
       "   require([\"d3\"], function(d3){\n",
       "      window.d3 = d3;\n",
       "      LDAvis_load_lib(\"https://cdn.rawgit.com/bmabey/pyLDAvis/files/ldavis.v1.0.0.js\", function(){\n",
       "        new LDAvis(\"#\" + \"ldavis_el874346602750241069385769\", ldavis_el874346602750241069385769_data);\n",
       "      });\n",
       "    });\n",
       "}else{\n",
       "    // require.js not available: dynamically load d3 & LDAvis\n",
       "    LDAvis_load_lib(\"https://cdnjs.cloudflare.com/ajax/libs/d3/3.5.5/d3.min.js\", function(){\n",
       "         LDAvis_load_lib(\"https://cdn.rawgit.com/bmabey/pyLDAvis/files/ldavis.v1.0.0.js\", function(){\n",
       "                 new LDAvis(\"#\" + \"ldavis_el874346602750241069385769\", ldavis_el874346602750241069385769_data);\n",
       "            })\n",
       "         });\n",
       "}\n",
       "</script>"
      ],
      "text/plain": [
       "PreparedData(topic_coordinates=            Freq  cluster  topics         x         y\n",
       "topic                                                \n",
       "0      34.587836        1       1 -0.159395  0.193160\n",
       "1      34.223469        1       2  0.327624 -0.003441\n",
       "2      31.188695        1       3 -0.168229 -0.189719, topic_info=     Category       Freq                         Term      Total  loglift  \\\n",
       "term                                                                        \n",
       "6     Default  53.000000  petal_length_(2.967, 4.933]  53.000000  12.0000   \n",
       "10    Default  53.000000       petal_width_(0.9, 1.7]  53.000000  11.0000   \n",
       "5     Default  46.000000       petal_width_(1.7, 2.5]  46.000000  10.0000   \n",
       "7     Default  46.000000    petal_length_(4.933, 6.9]  46.000000   9.0000   \n",
       "1     Default  49.000000    petal_width_(0.0976, 0.9]  49.000000   8.0000   \n",
       "3     Default  49.000000  petal_length_(0.994, 2.967]  49.000000   7.0000   \n",
       "9     Default  58.000000    sepal_length_(4.296, 5.5]  58.000000   6.0000   \n",
       "11    Default  70.000000      sepal_length_(5.5, 6.7]  70.000000   5.0000   \n",
       "0     Default  20.000000      sepal_length_(6.7, 7.9]  20.000000   4.0000   \n",
       "4     Default  46.000000     sepal_width_(1.998, 2.8]  46.000000   3.0000   \n",
       "8     Default  15.000000       sepal_width_(3.6, 4.4]  15.000000   2.0000   \n",
       "2     Default  87.000000       sepal_width_(2.8, 3.6]  87.000000   1.0000   \n",
       "6      Topic1  52.563559  petal_length_(2.967, 4.933]  53.231590   1.0490   \n",
       "10     Topic1  52.562687       petal_width_(0.9, 1.7]  53.231615   1.0490   \n",
       "4      Topic1  32.955455     sepal_width_(1.998, 2.8]  46.828154   0.7103   \n",
       "11     Topic1  41.940798      sepal_length_(5.5, 6.7]  70.460677   0.5429   \n",
       "2      Topic1  20.201463       sepal_width_(2.8, 3.6]  87.440063  -0.4035   \n",
       "9      Topic1   5.332542    sepal_length_(4.296, 5.5]  58.734177  -1.3375   \n",
       "8      Topic1   0.325571       sepal_width_(3.6, 4.4]  15.680734  -2.8129   \n",
       "0      Topic1   0.337059      sepal_length_(6.7, 7.9]  20.890171  -3.0651   \n",
       "7      Topic1   0.330116    petal_length_(4.933, 6.9]  46.772868  -3.8919   \n",
       "5      Topic1   0.329821       petal_width_(1.7, 2.5]  46.772876  -3.8928   \n",
       "3      Topic1   0.323969  petal_length_(0.994, 2.967]  49.978541  -3.9770   \n",
       "1      Topic1   0.323968    petal_width_(0.0976, 0.9]  49.978540  -3.9770   \n",
       "1      Topic2  49.322085    petal_width_(0.0976, 0.9]  49.978540   1.0590   \n",
       "3      Topic2  49.322085  petal_length_(0.994, 2.967]  49.978541   1.0590   \n",
       "8      Topic2  14.991231       sepal_width_(3.6, 4.4]  15.680734   1.0273   \n",
       "9      Topic2  53.068650    sepal_length_(4.296, 5.5]  58.734177   0.9708   \n",
       "2      Topic2  36.320594       sepal_width_(2.8, 3.6]  87.440063   0.1937   \n",
       "0      Topic2   0.328480      sepal_length_(6.7, 7.9]  20.890171  -3.0803   \n",
       "4      Topic2   0.334140     sepal_width_(1.998, 2.8]  46.828154  -3.8704   \n",
       "7      Topic2   0.327784    petal_length_(4.933, 6.9]  46.772868  -3.8884   \n",
       "5      Topic2   0.327772       petal_width_(1.7, 2.5]  46.772876  -3.8885   \n",
       "10     Topic2   0.328863       petal_width_(0.9, 1.7]  53.231615  -4.0145   \n",
       "6      Topic2   0.328845  petal_length_(2.967, 4.933]  53.231590  -4.0146   \n",
       "11     Topic2   0.340296      sepal_length_(5.5, 6.7]  70.460677  -4.2607   \n",
       "5      Topic3  46.115283       petal_width_(1.7, 2.5]  46.772876   1.1510   \n",
       "7      Topic3  46.114968    petal_length_(4.933, 6.9]  46.772868   1.1509   \n",
       "0      Topic3  20.224633      sepal_length_(6.7, 7.9]  20.890171   1.1327   \n",
       "11     Topic3  28.179584      sepal_length_(5.5, 6.7]  70.460677   0.2487   \n",
       "2      Topic3  30.918006       sepal_width_(2.8, 3.6]  87.440063   0.1255   \n",
       "4      Topic3  13.538558     sepal_width_(1.998, 2.8]  46.828154  -0.0758   \n",
       "8      Topic3   0.363932       sepal_width_(3.6, 4.4]  15.680734  -2.5981   \n",
       "1      Topic3   0.332488    petal_width_(0.0976, 0.9]  49.978540  -3.8476   \n",
       "3      Topic3   0.332487  petal_length_(0.994, 2.967]  49.978541  -3.8476   \n",
       "10     Topic3   0.340066       petal_width_(0.9, 1.7]  53.231615  -3.8882   \n",
       "6      Topic3   0.339186  petal_length_(2.967, 4.933]  53.231590  -3.8907   \n",
       "9      Topic3   0.332985    sepal_length_(4.296, 5.5]  58.734177  -4.0076   \n",
       "\n",
       "      logprob  \n",
       "term           \n",
       "6     12.0000  \n",
       "10    11.0000  \n",
       "5     10.0000  \n",
       "7      9.0000  \n",
       "1      8.0000  \n",
       "3      7.0000  \n",
       "9      6.0000  \n",
       "11     5.0000  \n",
       "0      4.0000  \n",
       "4      3.0000  \n",
       "8      2.0000  \n",
       "2      1.0000  \n",
       "6     -1.3732  \n",
       "10    -1.3733  \n",
       "4     -1.8401  \n",
       "11    -1.5990  \n",
       "2     -2.3295  \n",
       "9     -3.6614  \n",
       "8     -6.4574  \n",
       "0     -6.4228  \n",
       "7     -6.4436  \n",
       "5     -6.4445  \n",
       "3     -6.4624  \n",
       "1     -6.4624  \n",
       "1     -1.4263  \n",
       "3     -1.4263  \n",
       "8     -2.6172  \n",
       "9     -1.3531  \n",
       "2     -1.7323  \n",
       "0     -6.4380  \n",
       "4     -6.4209  \n",
       "7     -6.4401  \n",
       "5     -6.4401  \n",
       "10    -6.4368  \n",
       "6     -6.4368  \n",
       "11    -6.4026  \n",
       "5     -1.4007  \n",
       "7     -1.4007  \n",
       "0     -2.2249  \n",
       "11    -1.8932  \n",
       "2     -1.8005  \n",
       "4     -2.6263  \n",
       "8     -6.2426  \n",
       "1     -6.3330  \n",
       "3     -6.3330  \n",
       "10    -6.3104  \n",
       "6     -6.3130  \n",
       "9     -6.3315  , token_table=      Topic      Freq                         Term\n",
       "term                                              \n",
       "3         2  0.980421  petal_length_(0.994, 2.967]\n",
       "6         1  0.995649  petal_length_(2.967, 4.933]\n",
       "7         3  0.983476    petal_length_(4.933, 6.9]\n",
       "1         2  0.980421    petal_width_(0.0976, 0.9]\n",
       "10        1  0.995649       petal_width_(0.9, 1.7]\n",
       "5         3  0.983476       petal_width_(1.7, 2.5]\n",
       "9         1  0.085129    sepal_length_(4.296, 5.5]\n",
       "9         2  0.902371    sepal_length_(4.296, 5.5]\n",
       "11        1  0.596077      sepal_length_(5.5, 6.7]\n",
       "11        3  0.397385      sepal_length_(5.5, 6.7]\n",
       "0         3  0.957388      sepal_length_(6.7, 7.9]\n",
       "4         1  0.704704     sepal_width_(1.998, 2.8]\n",
       "4         3  0.298965     sepal_width_(1.998, 2.8]\n",
       "2         1  0.228728       sepal_width_(2.8, 3.6]\n",
       "2         2  0.411711       sepal_width_(2.8, 3.6]\n",
       "2         3  0.354529       sepal_width_(2.8, 3.6]\n",
       "8         2  0.956588       sepal_width_(3.6, 4.4], R=12, lambda_step=0.01, plot_opts={'xlab': 'PC1', 'ylab': 'PC2'}, topic_order=[1, 2, 3])"
      ]
     },
     "execution_count": 13,
     "metadata": {},
     "output_type": "execute_result"
    }
   ],
   "source": [
    "clustering_result"
   ]
  },
  {
   "cell_type": "markdown",
   "metadata": {},
   "source": [
    "#### To enhance interpretability, merge adjacent intervals"
   ]
  },
  {
   "cell_type": "code",
   "execution_count": 14,
   "metadata": {
    "collapsed": true
   },
   "outputs": [],
   "source": [
    "def merge_adjacent_intervals(intervals_for_var):\n",
    "    \n",
    "    def get_begin_and_end_points(interval):\n",
    "        return [float(x) for x in interval.split('_(')[1].replace(']','').split(', ')]\n",
    "    \n",
    "    var_name = intervals_for_var[0].split('_(')[0]\n",
    "    intervals_for_var = sorted([get_begin_and_end_points(i) for i in intervals_for_var])\n",
    "    \n",
    "    prev_num_intervals = len(intervals_for_var)\n",
    "    \n",
    "    while(True):\n",
    "        \n",
    "        for idx, interval in enumerate(intervals_for_var):\n",
    "            if idx < len(intervals_for_var) - 1:\n",
    "                curr_interval = intervals_for_var[idx]\n",
    "                next_interval = intervals_for_var[idx+1]\n",
    "                if curr_interval[1] == next_interval[0]:\n",
    "                    merged_interval = [curr_interval[0], next_interval[1]]\n",
    "                    intervals_for_var[idx+1] = merged_interval\n",
    "                    intervals_for_var.remove(curr_interval)\n",
    "                \n",
    "        curr_num_intervals = len(intervals_for_var)\n",
    "        if prev_num_intervals > curr_num_intervals:\n",
    "            prev_num_intervals = curr_num_intervals\n",
    "        else:\n",
    "            break\n",
    "    \n",
    "    intervals_for_var = ['{}_({}, {}]'.format(var_name, i[0], i[1]) for i in intervals_for_var]\n",
    "    return intervals_for_var\n",
    "\n",
    "def postprocess_intervals(var_names, intervals):\n",
    "    intervals_by_var = []\n",
    "    for var in var_names:\n",
    "        intervals_for_var = [x for x in intervals if var == x[:len(var)]]\n",
    "        if len(intervals_for_var) >= 2:\n",
    "            intervals_for_var = merge_adjacent_intervals(intervals_for_var)\n",
    "        intervals_by_var.append(intervals_for_var)\n",
    "    return intervals_by_var"
   ]
  },
  {
   "cell_type": "markdown",
   "metadata": {},
   "source": [
    "#### Now, we can describe clusters in terms of intervals of variables"
   ]
  },
  {
   "cell_type": "code",
   "execution_count": 15,
   "metadata": {
    "collapsed": false
   },
   "outputs": [
    {
     "name": "stdout",
     "output_type": "stream",
     "text": [
      "0 th cluster [['sepal_length_(5.5, 6.7]'], ['sepal_width_(1.998, 2.8]'], ['petal_length_(2.967, 4.933]'], ['petal_width_(0.9, 1.7]']]\n",
      "\n",
      "1 th cluster [['sepal_length_(4.296, 5.5]'], ['sepal_width_(2.8, 3.6]'], ['petal_length_(0.994, 2.967]'], ['petal_width_(0.0976, 0.9]']]\n",
      "\n",
      "2 th cluster [['sepal_length_(5.5, 7.9]'], ['sepal_width_(2.8, 3.6]'], ['petal_length_(4.933, 6.9]'], ['petal_width_(1.7, 2.5]']]\n",
      "\n"
     ]
    }
   ],
   "source": [
    "cutoff = 0.1 # P(value of variable | cluster) (Same as P(word | topic) in LDA Model)\n",
    "for i in range(n_cluster):\n",
    "    variables = postprocess_intervals(input_vars,\n",
    "                                       [dictionary.id2token[x[0]] for x in lda.get_topic_terms(i) if x[1] > cutoff])\n",
    "    print('{} th cluster'.format(i), variables)\n",
    "    print('')"
   ]
  },
  {
   "cell_type": "markdown",
   "metadata": {},
   "source": [
    "## 5. Clustering performance evaluation"
   ]
  },
  {
   "cell_type": "markdown",
   "metadata": {},
   "source": [
    "#### Get cluster(=topic) label of each row"
   ]
  },
  {
   "cell_type": "code",
   "execution_count": 16,
   "metadata": {
    "collapsed": true
   },
   "outputs": [],
   "source": [
    "def get_cluster_label(lda, row):\n",
    "    return np.argmax([x[1] for x in lda.get_document_topics(row)])"
   ]
  },
  {
   "cell_type": "code",
   "execution_count": 17,
   "metadata": {
    "collapsed": false
   },
   "outputs": [
    {
     "data": {
      "text/plain": [
       "0.8243868199386184"
      ]
     },
     "execution_count": 17,
     "metadata": {},
     "output_type": "execute_result"
    }
   ],
   "source": [
    "cluster_labels = [get_cluster_label(lda, row) for row in row_var_matrix]\n",
    "NMI(data.species, cluster_labels)"
   ]
  },
  {
   "cell_type": "markdown",
   "metadata": {},
   "source": [
    "#### Compare NMI with K-means & Agglomerative clustering"
   ]
  },
  {
   "cell_type": "code",
   "execution_count": 18,
   "metadata": {
    "collapsed": false
   },
   "outputs": [],
   "source": [
    "from sklearn.cluster import AgglomerativeClustering, KMeans"
   ]
  },
  {
   "cell_type": "code",
   "execution_count": 19,
   "metadata": {
    "collapsed": false
   },
   "outputs": [
    {
     "name": "stdout",
     "output_type": "stream",
     "text": [
      "0.758205727819\n"
     ]
    }
   ],
   "source": [
    "kmeans = KMeans(n_cluster)\n",
    "cluster_labels_kmeans = kmeans.fit_predict(data.drop(class_var, axis=1))\n",
    "print(NMI(data.species, cluster_labels_kmeans))"
   ]
  },
  {
   "cell_type": "code",
   "execution_count": 20,
   "metadata": {
    "collapsed": false
   },
   "outputs": [
    {
     "name": "stdout",
     "output_type": "stream",
     "text": [
      "0.770140990573\n"
     ]
    }
   ],
   "source": [
    "agg = AgglomerativeClustering(n_cluster)\n",
    "cluster_labels_agg = agg.fit_predict(data.drop(class_var, axis=1))\n",
    "print(NMI(data.species, cluster_labels_agg))"
   ]
  },
  {
   "cell_type": "markdown",
   "metadata": {},
   "source": [
    "#### Try with scaled input"
   ]
  },
  {
   "cell_type": "code",
   "execution_count": 21,
   "metadata": {
    "collapsed": false
   },
   "outputs": [],
   "source": [
    "scaled_data = data.drop(class_var, axis=1)\n",
    "scaled_data = (scaled_data - scaled_data.mean(axis=0)) / scaled_data.std()"
   ]
  },
  {
   "cell_type": "code",
   "execution_count": 22,
   "metadata": {
    "collapsed": false
   },
   "outputs": [
    {
     "name": "stdout",
     "output_type": "stream",
     "text": [
      "0.652558221252\n"
     ]
    }
   ],
   "source": [
    "cluster_labels_kmeans_scaled = kmeans.fit_predict(scaled_data)\n",
    "print(NMI(data.species, cluster_labels_kmeans_scaled))"
   ]
  },
  {
   "cell_type": "code",
   "execution_count": 23,
   "metadata": {
    "collapsed": false
   },
   "outputs": [
    {
     "name": "stdout",
     "output_type": "stream",
     "text": [
      "0.770140990573\n"
     ]
    }
   ],
   "source": [
    "cluster_labels_agg_scaled = agg.fit_predict(data.drop(class_var, axis=1))\n",
    "print(NMI(data.species, cluster_labels_agg_scaled))"
   ]
  },
  {
   "cell_type": "markdown",
   "metadata": {},
   "source": [
    "Clustering performance of proposed method outperforms K-means clustering,\n",
    "\n",
    "and is able to provide explanation for each cluster at the same time."
   ]
  },
  {
   "cell_type": "code",
   "execution_count": null,
   "metadata": {
    "collapsed": true
   },
   "outputs": [],
   "source": []
  }
 ],
 "metadata": {
  "anaconda-cloud": {},
  "kernelspec": {
   "display_name": "Python [conda root]",
   "language": "python",
   "name": "conda-root-py"
  },
  "language_info": {
   "codemirror_mode": {
    "name": "ipython",
    "version": 3
   },
   "file_extension": ".py",
   "mimetype": "text/x-python",
   "name": "python",
   "nbconvert_exporter": "python",
   "pygments_lexer": "ipython3",
   "version": "3.5.2"
  }
 },
 "nbformat": 4,
 "nbformat_minor": 1
}
